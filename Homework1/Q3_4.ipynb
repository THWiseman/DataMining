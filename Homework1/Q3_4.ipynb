{
  "nbformat": 4,
  "nbformat_minor": 0,
  "metadata": {
    "colab": {
      "provenance": [],
      "collapsed_sections": []
    },
    "kernelspec": {
      "name": "python3",
      "display_name": "Python 3"
    },
    "language_info": {
      "name": "python"
    }
  },
  "cells": [
    {
      "cell_type": "code",
      "execution_count": 14,
      "metadata": {
        "colab": {
          "base_uri": "https://localhost:8080/",
          "height": 1000
        },
        "id": "w_4P9gUJce9Y",
        "outputId": "33d85741-7a63-4324-ce1c-55eb13bef274"
      },
      "outputs": [
        {
          "output_type": "display_data",
          "data": {
            "text/plain": [
              "array([[   0.        , 1937.0982201 , 1424.94007966, 1441.97350222,\n",
              "        1597.63276777, 1168.0772169 , 1462.75423178, 1631.92964979,\n",
              "        1442.75167737, 1583.51437984],\n",
              "       [1937.0982201 ,    0.        , 1310.34155753, 1294.71434859,\n",
              "        1435.08419775, 1234.36101014, 1454.72807066, 1377.97674872,\n",
              "        1214.77919954, 1358.04080663],\n",
              "       [1424.94007966, 1310.34155753,    0.        , 1125.62157656,\n",
              "        1203.48648848, 1161.35905878, 1005.2909175 , 1382.1477331 ,\n",
              "         986.75987396, 1263.10385245],\n",
              "       [1441.97350222, 1294.71434859, 1125.62157656,    0.        ,\n",
              "        1329.83544684,  792.35627736, 1371.64107321, 1333.66561615,\n",
              "         920.67955685, 1211.4222727 ],\n",
              "       [1597.63276777, 1435.08419775, 1203.48648848, 1329.83544684,\n",
              "           0.        , 1045.77089254, 1095.67569725, 1029.13403986,\n",
              "        1100.03959116,  630.95115668],\n",
              "       [1168.0772169 , 1234.36101014, 1161.35905878,  792.35627736,\n",
              "        1045.77089254,    0.        , 1130.18928731, 1143.75376165,\n",
              "         790.86772373,  958.21042784],\n",
              "       [1462.75423178, 1454.72807066, 1005.2909175 , 1371.64107321,\n",
              "        1095.67569725, 1130.18928731,    0.        , 1456.00163131,\n",
              "        1199.59056712, 1203.91945477],\n",
              "       [1631.92964979, 1377.97674872, 1382.1477331 , 1333.66561615,\n",
              "        1029.13403986, 1143.75376165, 1456.00163131,    0.        ,\n",
              "        1221.35641318,  772.78834245],\n",
              "       [1442.75167737, 1214.77919954,  986.75987396,  920.67955685,\n",
              "        1100.03959116,  790.86772373, 1199.59056712, 1221.35641318,\n",
              "           0.        ,  969.71083874],\n",
              "       [1583.51437984, 1358.04080663, 1263.10385245, 1211.4222727 ,\n",
              "         630.95115668,  958.21042784, 1203.91945477,  772.78834245,\n",
              "         969.71083874,    0.        ]])"
            ]
          },
          "metadata": {}
        },
        {
          "output_type": "display_data",
          "data": {
            "text/plain": [
              "array([[0.        , 0.55200534, 0.25346543, 0.2609977 , 0.33812786,\n",
              "        0.16115375, 0.26842717, 0.35413982, 0.25465426, 0.32701209],\n",
              "       [0.55200534, 0.        , 0.30681086, 0.30485357, 0.45326389,\n",
              "        0.34442337, 0.39089799, 0.41550155, 0.23390025, 0.37988081],\n",
              "       [0.25346543, 0.30681086, 0.        , 0.19524383, 0.24175351,\n",
              "        0.22721249, 0.15504733, 0.32057769, 0.14166652, 0.25979965],\n",
              "       [0.2609977 , 0.30485357, 0.19524383, 0.        , 0.30099327,\n",
              "        0.10280732, 0.29161444, 0.30226505, 0.12401139, 0.24193711],\n",
              "       [0.33812786, 0.45326389, 0.24175351, 0.30099327, 0.        ,\n",
              "        0.21648034, 0.20098819, 0.20427763, 0.18658679, 0.07290257],\n",
              "       [0.16115375, 0.34442337, 0.22721249, 0.10280732, 0.21648034,\n",
              "        0.        , 0.21669089, 0.25830058, 0.08853949, 0.17223214],\n",
              "       [0.26842717, 0.39089799, 0.15504733, 0.29161444, 0.20098819,\n",
              "        0.21669089, 0.        , 0.35917014, 0.21071555, 0.23751215],\n",
              "       [0.35413982, 0.41550155, 0.32057769, 0.30226505, 0.20427763,\n",
              "        0.25830058, 0.35917014, 0.        , 0.2327798 , 0.10963667],\n",
              "       [0.25465426, 0.23390025, 0.14166652, 0.12401139, 0.18658679,\n",
              "        0.08853949, 0.21071555, 0.2327798 , 0.        , 0.1416112 ],\n",
              "       [0.32701209, 0.37988081, 0.25979965, 0.24193711, 0.07290257,\n",
              "        0.17223214, 0.23751215, 0.10963667, 0.1416112 , 0.        ]])"
            ]
          },
          "metadata": {}
        },
        {
          "output_type": "display_data",
          "data": {
            "text/plain": [
              "array([[    0.        , 31411.77070106, 23160.33338176, 22447.48101887,\n",
              "        24925.48289645, 18305.96686707, 23664.06929902, 27330.26716791,\n",
              "        21222.91087727, 25117.79775522],\n",
              "       [31411.77070106,     0.        , 21324.5204456 , 19951.92655186,\n",
              "        21410.95462344, 19049.89919879, 22131.35417898, 19733.26589842,\n",
              "        19107.49872849, 19879.64111558],\n",
              "       [23160.33338176, 21324.5204456 ,     0.        , 16232.23759724,\n",
              "        18518.33821831, 18726.03385486, 16324.88739614, 23079.77732799,\n",
              "        16129.01708639, 20392.75545754],\n",
              "       [22447.48101887, 19951.92655186, 16232.23759724,     0.        ,\n",
              "        21044.85603039, 12023.23482002, 22001.11643955, 21371.81400888,\n",
              "        13827.83458389, 19680.5120711 ],\n",
              "       [24925.48289645, 21410.95462344, 18518.33821831, 21044.85603039,\n",
              "            0.        , 16413.2668702 , 17264.19392662, 15017.97389317,\n",
              "        15888.71116333,  8459.02933058],\n",
              "       [18305.96686707, 19049.89919879, 18726.03385486, 12023.23482002,\n",
              "        16413.2668702 ,     0.        , 17915.26057965, 18796.39999776,\n",
              "        10880.37105528, 15472.41705425],\n",
              "       [23664.06929902, 22131.35417898, 16324.88739614, 22001.11643955,\n",
              "        17264.19392662, 17915.26057965,     0.        , 24046.88672559,\n",
              "        19170.58696842, 19107.13729039],\n",
              "       [27330.26716791, 19733.26589842, 23079.77732799, 21371.81400888,\n",
              "        15017.97389317, 18796.39999776, 24046.88672559,     0.        ,\n",
              "        18461.44596045, 10816.37996344],\n",
              "       [21222.91087727, 19107.49872849, 16129.01708639, 13827.83458389,\n",
              "        15888.71116333, 10880.37105528, 19170.58696842, 18461.44596045,\n",
              "            0.        , 14985.48768994],\n",
              "       [25117.79775522, 19879.64111558, 20392.75545754, 19680.5120711 ,\n",
              "         8459.02933058, 15472.41705425, 19107.13729039, 10816.37996344,\n",
              "        14985.48768994,     0.        ]])"
            ]
          },
          "metadata": {}
        }
      ],
      "source": [
        "import pandas as pd\n",
        "import numpy as np\n",
        "import matplotlib.pyplot as plt\n",
        "from google.colab import files\n",
        "from scipy.spatial.distance import pdist\n",
        "from scipy.spatial.distance import squareform\n",
        "\n",
        "dataPath = \"sample_data/mnist_train_small.csv\"\n",
        "dataFile = open(dataPath, 'r')\n",
        "\n",
        "#load the data\n",
        "trainDF = pd.read_csv(dataPath)\n",
        "\n",
        "labels = trainDF.iloc[:,:1]\n",
        "features = trainDF.iloc[:,1:]\n",
        "\n",
        "rows = [0,1,2,3,4,5,6,7,8,9]\n",
        "\n",
        "columns = []\n",
        "for i in range(0,784):\n",
        "  columns.append(i)\n",
        "\n",
        "means = []\n",
        "for i in range(0,10): #For each digit, average all rows with that digit's label to be a single vector\n",
        "  theNumber = trainDF.loc[trainDF[\"6\"] == i]\n",
        "  mean = theNumber.mean(axis=0)\n",
        "  mean = mean[1:]\n",
        "  means.append(mean)\n",
        "\n",
        "data = np.array(means)\n",
        "df = pd.DataFrame(data=data,index=rows,columns=columns)\n",
        "\n",
        "distances = pdist(df.values, metric = 'euclidean') #euclidean distance\n",
        "dist_matrix = squareform(distances)\n",
        "display(dist_matrix)\n",
        "\n",
        "distances = pdist(df.values, metric = 'cosine') #cosine distance\n",
        "dist_matrix = squareform(distances)\n",
        "display(dist_matrix)\n",
        "\n",
        "distances = pdist(df.values, metric = 'cityblock') #manhatten distance\n",
        "dist_matrix = squareform(distances)\n",
        "display(dist_matrix)\n",
        "\n",
        "\n",
        "\n",
        "\n"
      ]
    },
    {
      "cell_type": "markdown",
      "source": [
        "# New Section"
      ],
      "metadata": {
        "id": "vfVLMuGL2JPR"
      }
    },
    {
      "cell_type": "code",
      "source": [],
      "metadata": {
        "id": "0I_rStv_HoXn"
      },
      "execution_count": null,
      "outputs": []
    },
    {
      "cell_type": "code",
      "source": [
        "from sklearn.datasets import fetch_openml, load_digits\n",
        "import numpy as np\n",
        "import pandas as pd \n",
        "import matplotlib.pyplot as plt\n",
        "import matplotlib\n",
        "\n",
        "dataPath = \"sample_data/mnist_train_small.csv\"\n",
        "dataFile = open(dataPath, 'r')\n",
        "\n",
        "#load the data\n",
        "trainDF = pd.read_csv(dataPath)\n",
        "features = trainDF.iloc[:,1:]\n",
        "labels = trainDF.iloc[:,:1]\n",
        "\n",
        "\n",
        "x = np.array(features)\n",
        "y = np.array(labels)\n",
        "print(x.shape)\n",
        "print(y.shape)"
      ],
      "metadata": {
        "id": "OMUhymZnyrEV",
        "colab": {
          "base_uri": "https://localhost:8080/"
        },
        "outputId": "923afe82-cb56-4ff9-dd0a-2715562356e3"
      },
      "execution_count": 15,
      "outputs": [
        {
          "output_type": "stream",
          "name": "stdout",
          "text": [
            "(19999, 784)\n",
            "(19999, 1)\n"
          ]
        }
      ]
    },
    {
      "cell_type": "code",
      "source": [
        "def showDigit(row): #function to visualize any one digit\n",
        "  digitImage = row.reshape(28,28)\n",
        "  plt.imshow(digitImage, cmap=matplotlib.cm.binary)\n",
        "  plt.axis(\"off\")\n",
        "  plt.show()\n",
        "\n",
        "showDigit(x[3])"
      ],
      "metadata": {
        "colab": {
          "base_uri": "https://localhost:8080/",
          "height": 248
        },
        "id": "ITpcKbFTJHS9",
        "outputId": "a1a728f0-3498-4d38-9fd3-34419f0b5eb0"
      },
      "execution_count": 9,
      "outputs": [
        {
          "output_type": "display_data",
          "data": {
            "text/plain": [
              "<Figure size 432x288 with 1 Axes>"
            ],
            "image/png": "[encoded data removed]"
          },
          "metadata": {
            "needs_background": "light"
          }
        }
      ]
    },
    {
      "cell_type": "code",
      "source": [
        "def getPairwiseEuclidean(X,Y):\n",
        "  \"\"\"\n",
        "  For matrix X and Y with dimensions (N,D) and (M,D),\n",
        "  compute thair pairwise distance and return the (N,M) distance matrix\n",
        "  \"\"\"\n",
        "  pairwiseDistance = np.sqrt(np.einsum('ijk->ij',(X[:,None,:] - Y)**2))\n",
        "  return pairwiseDistance\n",
        "\n",
        "def batchPairwise(X, batchSize):\n",
        "  numRows = X.shape[0]\n",
        "  numRowsCompleted = 0\n",
        "  while numRowsCompleted < numRows-batchSize:\n",
        "    rowSubset = X[numRowsCompleted:numRowsCompleted+batchSize, :]\n",
        "    pairwise = getPairwiseEuclidean(rowSubset,rowSubset)\n",
        "\n",
        "print(x.shape)\n",
        "xSub = x[:100,:]\n",
        "print(xSub.shape[0])\n",
        "pairwise = getPairwiseEuclidean(xSub,xSub)\n",
        "print(pairwise)"
      ],
      "metadata": {
        "colab": {
          "base_uri": "https://localhost:8080/"
        },
        "id": "2gMPSJc2Jm_B",
        "outputId": "7a2dca23-7f01-4559-db36-a976197d2ff7"
      },
      "execution_count": 16,
      "outputs": [
        {
          "output_type": "stream",
          "name": "stdout",
          "text": [
            "(19999, 784)\n",
            "100\n",
            "[[   0.         2523.88747768 2538.12017052 ... 2207.38782274\n",
            "  2844.98576446 2573.10357351]\n",
            " [2523.88747768    0.         2571.07603933 ... 3001.89356907\n",
            "  3079.38825094 2672.45130919]\n",
            " [2538.12017052 2571.07603933    0.         ... 2591.52561245\n",
            "  3204.57859944 2496.60849954]\n",
            " ...\n",
            " [2207.38782274 3001.89356907 2591.52561245 ...    0.\n",
            "  2813.44717384 2580.78224575]\n",
            " [2844.98576446 3079.38825094 3204.57859944 ... 2813.44717384\n",
            "     0.         2875.04260838]\n",
            " [2573.10357351 2672.45130919 2496.60849954 ... 2580.78224575\n",
            "  2875.04260838    0.        ]]\n"
          ]
        }
      ]
    },
    {
      "cell_type": "code",
      "source": [
        "from sklearn.datasets import fetch_openml, load_digits\n",
        "import numpy as np\n",
        "import pandas as pd \n",
        "import matplotlib.pyplot as plt\n",
        "import matplotlib\n",
        "\n",
        "dataPath = \"sample_data/mnist_train_small.csv\"\n",
        "dataFile = open(dataPath, 'r')\n",
        "\n",
        "#load the data\n",
        "trainDF = pd.read_csv(dataPath)\n",
        "features = trainDF.iloc[:,1:]\n",
        "labels = trainDF.iloc[:,:1]\n",
        "\n",
        "\n",
        "x = np.array(features)\n",
        "y = np.array(labels)\n",
        "\n",
        "xSub = x[:1000,:]\n",
        "\n",
        "def pairwise_distance_euclidean(X):\n",
        "  n = X.shape[0]\n",
        "  i,j = np.triu_indices(n,k=1)\n",
        "  x = X[i]\n",
        "  y = X[j]\n",
        "\n",
        "  diff = x-y\n",
        "  ssd = np.sum(diff**2, axis=1)\n",
        "  print(ssd.shape)\n",
        "  distances = np.sqrt(ssd)\n",
        "  result = np.zeros((n,n))\n",
        "  result[i,j] = distances\n",
        "  result = result + result.T\n",
        "  return result\n",
        "\n",
        "def pairwise_distance_cos(X):\n",
        "  num=np.dot(X,X.T)\n",
        "  p1=np.sqrt(np.sum(X**2,axis=1))[:,np.newaxis]\n",
        "  p2=np.sqrt(np.sum(X**2,axis=1))[np.newaxis,:]\n",
        "  return  num/(p1*p2)\n",
        "\n",
        "\n",
        "pairwiseResult = pairwise_distance_cos(xSub)\n",
        "display(pairwiseResult)\n"
      ],
      "metadata": {
        "colab": {
          "base_uri": "https://localhost:8080/",
          "height": 243
        },
        "id": "5uBwMHRgT5kl",
        "outputId": "01a6f55b-488d-40da-c7e9-706c5cef4ce1"
      },
      "execution_count": 16,
      "outputs": [
        {
          "output_type": "display_data",
          "data": {
            "text/plain": [
              "array([[1.        , 0.40528125, 0.4300521 , ..., 0.23050053, 0.36857418,\n",
              "        0.34828025],\n",
              "       [0.40528125, 1.        , 0.43297679, ..., 0.26665911, 0.18264735,\n",
              "        0.19744407],\n",
              "       [0.4300521 , 0.43297679, 1.        , ..., 0.18348089, 0.30124134,\n",
              "        0.49862684],\n",
              "       ...,\n",
              "       [0.23050053, 0.26665911, 0.18348089, ..., 1.        , 0.28539067,\n",
              "        0.06622924],\n",
              "       [0.36857418, 0.18264735, 0.30124134, ..., 0.28539067, 1.        ,\n",
              "        0.32813331],\n",
              "       [0.34828025, 0.19744407, 0.49862684, ..., 0.06622924, 0.32813331,\n",
              "        1.        ]])"
            ]
          },
          "metadata": {}
        }
      ]
    },
    {
      "cell_type": "code",
      "source": [
        "from sklearn.datasets import fetch_openml, load_digits\n",
        "from sklearn.metrics.pairwise import manhattan_distances\n",
        "import numpy as np\n",
        "import pandas as pd \n",
        "import matplotlib.pyplot as plt\n",
        "import matplotlib\n",
        "\n",
        "dataPath = \"sample_data/mnist_train_small.csv\"\n",
        "dataFile = open(dataPath, 'r')\n",
        "\n",
        "\n",
        "#load the data\n",
        "trainDF = pd.read_csv(dataPath)\n",
        "trainDF = trainDF.sample(frac = 1)\n",
        "features = trainDF.iloc[:,1:]\n",
        "labels = trainDF.iloc[:,:1]\n",
        "\n",
        "x = np.array(features)\n",
        "y = np.array(labels)\n",
        "\n",
        "trainSize = 10000\n",
        "testSize = 100\n",
        "\n",
        "train = x[:trainSize,:]\n",
        "trainLabels = y[:trainSize,:]\n",
        "test = x[trainSize+1:trainSize + 1 +testSize,:]\n",
        "correctAnswers = y[trainSize+1:trainSize + 1 +testSize,:].flatten()\n",
        "\n",
        "def get_pairwise_euclidean(X,Y):\n",
        "  '''\n",
        "  Computes the pairwise distnace between two matrices.\n",
        "  X is dimensions n x d.\n",
        "  Y is dimensions m x d.\n",
        "  Returns n x m matrix.\n",
        "  '''\n",
        "   #a^2 + b^2 - 2ab\n",
        "   #not taking sqrt because not needed for knn.\n",
        "  distances = -2 * X@Y.T + np.sum(Y**2, axis=1) + np.sum(X**2, axis=1)[:,np.newaxis]\n",
        "  return distances\n",
        "\n",
        "def get_pairwise_cosine(X,Y):\n",
        "  print(\"X shape: \", X.shape)\n",
        "  print(\"Y shape: \", Y.shape)\n",
        "  num=np.dot(X,Y.T)\n",
        "  print(\"num shape: \", num.shape)\n",
        "  p1=np.sqrt(np.sum(X**2,axis=1))[:,np.newaxis]\n",
        "  print(\"p1 shape: \", p1.shape)\n",
        "  p2=np.sqrt(np.sum(Y**2,axis=1))[np.newaxis,:]\n",
        "  print(\"p2 shape: \", p2.shape)\n",
        "  return  1 - (num/(p1*p2))\n",
        "\n",
        "def get_pairwise_manhattan(X,Y):\n",
        "  return manhattan_distances(X,Y)\n",
        "\n",
        "def knn(xTrain, xTest, distanceFn, k):\n",
        "  '''\n",
        "  Finds the k nearest neighbots of xTest in xTrain\n",
        "  xTrain = n x d matrix. n = rows, d = features\n",
        "  xTest  = m x d matrix. m = rows, d = features\n",
        "  k      = number of neighbors to find\n",
        "  Output:\n",
        "  dists = distances between xTrain/xTest  points. n x m. \n",
        "  indices = k x m matrix with indices of yTrain labels. \n",
        "  '''\n",
        "  distances = distanceFn(xTrain,xTest) #this is the similarity matrix between the train and test data. \n",
        "  distances[distances < 0] = 0\n",
        "  indices = np.argsort(distances, 0) #get indices of sorted items\n",
        "  distances = np.sort(distances, 0) #distances sorted in axis 0\n",
        "  return indices[0:k,:], distances[0:k,:]\n",
        "\n",
        "\n",
        "def knn_predictions(xTrain,yTrain, xTest, distanceFn, k=3):\n",
        "  '''\n",
        "  xTrain = n x d matrix. n = rows, d = features\n",
        "  yTrain = n x 1 array.  n = rows with labels \n",
        "  xTest  = m x d matrix. m = rows, d = features\n",
        "  k      = number of neighbors to find\n",
        "  Output:\n",
        "  predictions = pred[i] is the predicted label of xTest(i,:)\n",
        "  '''\n",
        "  indices, distances = knn(xTrain,xTest, distanceFn, k)\n",
        "  yTrain = yTrain.flatten()\n",
        "  rows, columns = indices.shape\n",
        "  predictions = list()\n",
        "  for j in range(columns):\n",
        "    temp = list()\n",
        "    for i in range(rows):\n",
        "      cell=indices[i][j]\n",
        "      temp.append(yTrain[cell])\n",
        "    predictions.append(max(temp,key=temp.count))\n",
        "  predictions = np.array(predictions)\n",
        "  return predictions\n",
        "\n",
        "def calcAccuracy(predictions,labels):\n",
        "  '''\n",
        "  Returns the number of correct predictions divided by the total number of predictions.\n",
        "  Predictions and labels must be the same size.\n",
        "  '''\n",
        "  numCorrect = 0\n",
        "  for i in range(len(predictions)):\n",
        "    if predictions[i] == labels[i]:\n",
        "      numCorrect+=1\n",
        "  return numCorrect / len(predictions)\n",
        "\n",
        "\n",
        "predictions = knn_predictions(train, trainLabels, test, get_pairwise_cosine)\n",
        "print(\"Accuracy: \", calcAccuracy(predictions,correctAnswers))\n",
        "\n"
      ],
      "metadata": {
        "colab": {
          "base_uri": "https://localhost:8080/"
        },
        "id": "ukg6NUwamUDG",
        "outputId": "cc938847-94f5-4e70-cd7c-bdadf57c1b56"
      },
      "execution_count": null,
      "outputs": [
        {
          "output_type": "stream",
          "name": "stdout",
          "text": [
            "X shape:  (10000, 784)\n",
            "Y shape:  (100, 784)\n"
          ]
        }
      ]
    },
    {
      "cell_type": "code",
      "source": [
        "from sklearn.datasets import fetch_20newsgroups\n",
        "newsgroups = fetch_20newsgroups(subset='train', remove=('headers','footers'))\n",
        "\n",
        "print(newsgroups.target_names, \"\\n\")\n",
        "print(newsgroups.data[0], \"\\n\")\n",
        "print(newsgroups.target_names[newsgroups.target[0]], \"\\n\")"
      ],
      "metadata": {
        "colab": {
          "base_uri": "https://localhost:8080/"
        },
        "id": "W8N6yL7G3Int",
        "outputId": "ff79896a-b2ab-45c8-9c14-12ba32de52da"
      },
      "execution_count": 2,
      "outputs": [
        {
          "output_type": "stream",
          "name": "stdout",
          "text": [
            "['alt.atheism', 'comp.graphics', 'comp.os.ms-windows.misc', 'comp.sys.ibm.pc.hardware', 'comp.sys.mac.hardware', 'comp.windows.x', 'misc.forsale', 'rec.autos', 'rec.motorcycles', 'rec.sport.baseball', 'rec.sport.hockey', 'sci.crypt', 'sci.electronics', 'sci.med', 'sci.space', 'soc.religion.christian', 'talk.politics.guns', 'talk.politics.mideast', 'talk.politics.misc', 'talk.religion.misc'] \n",
            "\n",
            "I was wondering if anyone out there could enlighten me on this car I saw\n",
            "the other day. It was a 2-door sports car, looked to be from the late 60s/\n",
            "early 70s. It was called a Bricklin. The doors were really small. In addition,\n",
            "the front bumper was separate from the rest of the body. This is \n",
            "all I know. If anyone can tellme a model name, engine specs, years\n",
            "of production, where this car is made, history, or whatever info you\n",
            "have on this funky looking car, please e-mail. \n",
            "\n",
            "rec.autos \n",
            "\n"
          ]
        }
      ]
    },
    {
      "cell_type": "code",
      "source": [
        "from sklearn.feature_extraction.text import CountVectorizer\n",
        "\n",
        "\n",
        "\n",
        "vectorizer = CountVectorizer(stop_words='english')\n",
        "tf_matrix = vectorizer.fit_transform(newsgroups.data)\n",
        "assert tf_matrix.shape[1] < 114751\n",
        "words = vectorizer.get_feature_names()\n",
        "tf_np_matrix = tf_matrix.toarray()\n",
        "print(tf_np_matrix.shape)\n",
        "\n",
        "\n"
      ],
      "metadata": {
        "colab": {
          "base_uri": "https://localhost:8080/"
        },
        "id": "uTIGzY9A7Lb6",
        "outputId": "a69a1549-ce48-4043-f080-0685dc488b13"
      },
      "execution_count": 3,
      "outputs": [
        {
          "output_type": "stream",
          "name": "stderr",
          "text": [
            "/usr/local/lib/python3.7/dist-packages/sklearn/utils/deprecation.py:87: FutureWarning: Function get_feature_names is deprecated; get_feature_names is deprecated in 1.0 and will be removed in 1.2. Please use get_feature_names_out instead.\n",
            "  warnings.warn(msg, category=FutureWarning)\n"
          ]
        },
        {
          "output_type": "stream",
          "name": "stdout",
          "text": [
            "(11314, 114441)\n"
          ]
        }
      ]
    },
    {
      "cell_type": "code",
      "source": [
        "import numpy as np\n",
        "tf_vector = tf_np_matrix[0]\n",
        "non_zero_indices = np.flatnonzero(tf_vector)\n",
        "num_unique_words = non_zero_indices.size\n",
        "print(f\"The newsgroup in row 0 contains {num_unique_words} unique words.\")\n",
        "print(\"The actual word counts map to the following column indices:\\n\")\n",
        "print(non_zero_indices)"
      ],
      "metadata": {
        "colab": {
          "base_uri": "https://localhost:8080/"
        },
        "id": "nZw9ZVRI_qZO",
        "outputId": "8284f1ed-5ac7-41fa-9645-a083afbd31e3"
      },
      "execution_count": 3,
      "outputs": [
        {
          "output_type": "stream",
          "name": "stdout",
          "text": [
            "The newsgroup in row 0 contains 64 unique words.\n",
            "The actual word counts map to the following column indices:\n",
            "\n",
            "[ 14106  15549  22088  23323  24398  27703  29357  30093  30629  32194\n",
            "  32305  32499  37154  39275  42332  42333  43643  45089  45141  49871\n",
            "  49881  50165  54442  55453  57577  58321  58842  60116  60326  64083\n",
            "  65338  67137  67140  68931  69080  70570  72915  75280  78264  78701\n",
            "  79055  79461  79534  82759  84398  87690  89161  92157  93304  95225\n",
            "  96145  96432 100406 100827 100942 101084 101732 108644 109086 109254\n",
            " 109294 110106 112936 113262]\n"
          ]
        }
      ]
    },
    {
      "cell_type": "code",
      "source": [
        "from sklearn.feature_extraction.text import TfidfVectorizer\n",
        "tf_idf_vectorizer = TfidfVectorizer(stop_words='english')\n",
        "tf_idf_matrix = tf_idf_vectorizer.fit_transform(newsgroups.data)\n",
        "tf_idf_np_matrix = tf_idf_matrix.toarray()\n",
        "\n",
        "print(tf_idf_np_matrix.shape)"
      ],
      "metadata": {
        "colab": {
          "base_uri": "https://localhost:8080/"
        },
        "id": "eXL8ZQ-JBiZh",
        "outputId": "704fe05a-c8f6-4d13-974d-fde8b219387f"
      },
      "execution_count": 4,
      "outputs": [
        {
          "output_type": "stream",
          "name": "stdout",
          "text": [
            "(11314, 114441)\n"
          ]
        }
      ]
    },
    {
      "cell_type": "code",
      "source": [
        "from sklearn.decomposition import TruncatedSVD\n",
        "shrunk_matrix = TruncatedSVD(n_components=100).fit_transform(tf_idf_matrix)\n",
        "from sklearn.preprocessing import normalize\n",
        "shrunk_norm_matrix = normalize(shrunk_matrix)\n"
      ],
      "metadata": {
        "id": "otnzbK6eCmyA"
      },
      "execution_count": 7,
      "outputs": []
    },
    {
      "cell_type": "code",
      "source": [
        "print(shrunk_norm_matrix.shape)"
      ],
      "metadata": {
        "colab": {
          "base_uri": "https://localhost:8080/"
        },
        "id": "xKaGAHGJDtPA",
        "outputId": "e34a065b-b2dd-435d-b142-72a31d1605e8"
      },
      "execution_count": 8,
      "outputs": [
        {
          "output_type": "stream",
          "name": "stdout",
          "text": [
            "(11314, 100)\n"
          ]
        }
      ]
    }
  ]
}