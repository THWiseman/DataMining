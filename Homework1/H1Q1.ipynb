{
 "nbformat": 4,
 "nbformat_minor": 0,
 "metadata": {
  "colab": {
   "provenance": [],
   "collapsed_sections": []
  },
  "kernelspec": {
   "name": "python3",
   "display_name": "Python 3"
  },
  "language_info": {
   "name": "python"
  }
 },
 "cells": [
  {
   "cell_type": "code",
   "execution_count": 55,
   "metadata": {
    "id": "4AqXg0o72f-K",
    "pycharm": {
     "name": "#%%\n"
    }
   },
   "outputs": [],
   "source": [
    "\n",
    "import pandas as pd\n",
    "import numpy as np\n",
    "import matplotlib.pyplot as plt\n",
    "from google.colab import files\n",
    "\n",
    "dataPath = \"/content/drive/MyDrive/DM/acm.txt\"\n",
    "\n",
    "authors = set()\n",
    "venues = set()\n",
    "publications = set()\n",
    "citations = set()\n",
    "index = \"\"\n"
   ]
  },
  {
   "cell_type": "code",
   "source": [
    "with open(dataPath, 'r', newline='', encoding=\"utf8\") as dataFile:\n",
    "  for line in dataFile:\n",
    "    if line.startswith(\"#index\"):\n",
    "      index = line[7:]\n",
    "      publications.add(line)\n",
    "    elif line.startswith(\"#@\"):\n",
    "      authorList = line[3:].split(\";\")\n",
    "      for author in authorList:\n",
    "        authors.add(author.strip())\n",
    "    elif line.startswith(\"#c\"):\n",
    "      venues.add(line)\n",
    "    elif line.startswith(\"#%\"):\n",
    "      #keep each citation associated with the index it originated from. This lets us keep each citation as a unique event, but also lets us correlate it with the paper it came from for when calculating the impact factor. \n",
    "      citations.add(index+line) \n",
    "\n",
    "\n",
    "print(\"Total Number of Unique Authors: \", len(authors))\n",
    "print(\"Total number of Venues: \", len(venues))\n",
    "print(\"Total number of publications:\", len(publications))\n",
    "print(\"Total number of Citations:\", len(citations))\n"
   ],
   "metadata": {
    "colab": {
     "base_uri": "https://localhost:8080/"
    },
    "id": "BppkIAqE4tfF",
    "outputId": "58b2dcf8-2c9a-4301-b4b4-42f0ed54c229",
    "pycharm": {
     "name": "#%%\n"
    }
   },
   "execution_count": 56,
   "outputs": [
    {
     "output_type": "stream",
     "name": "stdout",
     "text": [
      "Total Number of Unique Authors:  1662167\n",
      "Total number of Venues:  273329\n",
      "Total number of publications: 2385057\n",
      "Total number of Citations: 9437851\n"
     ]
    }
   ]
  },
  {
   "cell_type": "markdown",
   "source": [
    "A. Compute the number of distinct authors, publication venues, publications, and citations/references. See above. "
   ],
   "metadata": {
    "id": "PyU9rYdC7a_S",
    "pycharm": {
     "name": "#%% md\n"
    }
   }
  },
  {
   "cell_type": "code",
   "source": [
    "unique_venue_names = set()\n",
    "with open(dataPath, 'r', newline='', encoding=\"utf8\") as dataFile:\n",
    "  for line in dataFile:\n",
    "    index = \"\"\n",
    "    venue = \"\"\n",
    "    for line in dataFile:\n",
    "      if line.startswith(\"#c\"): #venue lines\n",
    "        if \"Principles and Practice of Knowledge Discovery in Databases\" in line:\n",
    "          venue = line[3:]#strip the #c\n",
    "          unique_venue_names.add(venue)\n",
    "\n",
    "print(\"Unique Venue Names:\")\n",
    "for venue in unique_venue_names:\n",
    "  print(venue)\n"
   ],
   "metadata": {
    "colab": {
     "base_uri": "https://localhost:8080/"
    },
    "id": "-HnQ3iXa6kXK",
    "outputId": "1393561b-0bd1-41c8-c7b9-7deb635933a9",
    "pycharm": {
     "name": "#%%\n"
    }
   },
   "execution_count": 57,
   "outputs": [
    {
     "output_type": "stream",
     "name": "stdout",
     "text": [
      "Unique Venue Names:\n",
      "KDD '04 Proceedings of the 8th European Conference on Principles and Practice of Knowledge Discovery in Databases\n",
      "\n",
      "KDD 2007 Proceedings of the 11th European conference on Principles and Practice of Knowledge Discovery in Databases\n",
      "\n",
      "nowledge Discovery in Databases: PKDD 2005: 9th European Conference on Principles and Practice of Knowledge Discovery in Databases, Porto, Portugal, October ... / Lecture Notes in Artificial Intelligence)\n",
      "\n",
      "KDD'05 Proceedings of the 9th European conference on Principles and Practice of Knowledge Discovery in Databases\n",
      "\n",
      "nowledge Discovery in Databases: PKDD 2006: 10th European Conference on Principles and Practice of Knowledge Discovery in Databases, Berlin, Germany, September ... (Lecture Notes in Computer Science)\n",
      "\n"
     ]
    }
   ]
  },
  {
   "cell_type": "markdown",
   "source": [
    "B) When we look at the venues containing the string ‘Principles and Practice of Knowledge Discovery in Databases’, we notice that the same venue can occur with several names, with each name relating to a year that that venue was utilized. This implies that our data is likely inaccurate in situations where things we would consider to be the same are encoded differently in the dataset. "
   ],
   "metadata": {
    "id": "vM8LRC2b70aQ",
    "pycharm": {
     "name": "#%% md\n"
    }
   }
  },
  {
   "cell_type": "code",
   "source": [
    "from collections import defaultdict\n",
    "import matplotlib.pyplot as plt\n",
    "from importlib import reload\n",
    "plt=reload(plt)\n",
    "\n",
    "\n",
    "def generate0():\n",
    "  return 0\n",
    "\n",
    "num_publications_by_author = defaultdict(generate0) #whenever a key is accessed and a value is not present, that value will be zero.\n",
    "\n",
    "with open(dataPath, 'r', newline='', encoding=\"utf8\") as dataFile:\n",
    "  for line in dataFile:\n",
    "    if line.startswith(\"#@\"):\n",
    "      authorList = line[3:].split(\";\")\n",
    "      for author in authorList:\n",
    "        num_publications_by_author[author.strip()] += 1\n",
    "\n",
    "authorNames = list(num_publications_by_author.keys())\n",
    "authorPublications = list(num_publications_by_author.values())\n",
    "\n",
    "#make sure that there's no empty author in our list\n",
    "emptyAuthorIndex = authorNames.index(\"\")\n",
    "del authorNames[emptyAuthorIndex]\n",
    "del authorPublications[emptyAuthorIndex]\n",
    "\n",
    "plt.title('Number of Publications Per Author')\n",
    "plt.hist(authorPublications, bins=100,log=True)\n",
    "plt.show()"
   ],
   "metadata": {
    "colab": {
     "base_uri": "https://localhost:8080/",
     "height": 281
    },
    "id": "ZlEqqr4K8GOB",
    "outputId": "fa9d9d30-7553-4838-c98d-39709596a799",
    "pycharm": {
     "name": "#%%\n"
    }
   },
   "execution_count": 58,
   "outputs": [
    {
     "output_type": "display_data",
     "data": {
      "text/plain": [
       "<Figure size 432x288 with 1 Axes>"
      ],
      "image/png": "[encoded data removed]"
     },
     "metadata": {
      "needs_background": "light"
     }
    }
   ]
  },
  {
   "cell_type": "code",
   "source": [
    "import numpy as np\n",
    "\n",
    "mean = np.mean(authorPublications) #average of how many papers each author wrote\n",
    "standardDeviation = np.std(authorPublications) #standard deviations of  number of papers written by each author\n",
    "minV = np.min(authorPublications)\n",
    "q1 = np.percentile(authorPublications,25) #median of the lower half of the authors\n",
    "median = np.median(authorPublications)\n",
    "q3 = np.percentile(authorPublications, 75)\n",
    "maxV = np.max(authorPublications)\n",
    "\n",
    "print(\"Mean: \", mean)\n",
    "print(\"Standard Deviation: \", standardDeviation)\n",
    "print(\"Min: \", minV)\n",
    "print(\"q1: \", q1)\n",
    "print(\"Median: \", median)\n",
    "print(\"q3: \", q3)\n",
    "print(\"Max: \", maxV)\n",
    "\n"
   ],
   "metadata": {
    "colab": {
     "base_uri": "https://localhost:8080/"
    },
    "id": "5NG94vT4-Yku",
    "outputId": "03622e4e-3596-4ae2-b99d-72d5168803fc",
    "pycharm": {
     "name": "#%%\n"
    }
   },
   "execution_count": 59,
   "outputs": [
    {
     "output_type": "stream",
     "name": "stdout",
     "text": [
      "Mean:  1.343925335977273\n",
      "Standard Deviation:  2.590152672721417\n",
      "Min:  1\n",
      "q1:  1.0\n",
      "Median:  1.0\n",
      "q3:  1.0\n",
      "Max:  1111\n"
     ]
    }
   ]
  },
  {
   "cell_type": "markdown",
   "source": [
    "The mean is much bigger than the median, and the standard deviation is much bigger than we would expect considering the quartile values. We can assume and see that there are some significatnt outliers at the top of the list. "
   ],
   "metadata": {
    "id": "whsNX4N2BRZK",
    "pycharm": {
     "name": "#%% md\n"
    }
   }
  },
  {
   "cell_type": "code",
   "source": [
    "from collections import defaultdict\n",
    "import matplotlib.pyplot as plt\n",
    "from importlib import reload\n",
    "plt=reload(plt)\n",
    "\n",
    "\n",
    "def generate0():\n",
    "  return 0\n",
    "\n",
    "number_of_publications_per_venue = {}\n",
    "\n",
    "with open(dataPath, 'r', newline='', encoding=\"utf8\") as dataFile:\n",
    "  for line in dataFile:\n",
    "    if line.startswith(\"#c\"):\n",
    "      venue = line[2:].strip()\n",
    "      if number_of_publications_per_venue.get(venue) == None:\n",
    "        number_of_publications_per_venue[venue] = 1\n",
    "      else:\n",
    "        number_of_publications_per_venue[venue] +=1\n",
    "\n",
    "venueNames = list(number_of_publications_per_venue.keys())\n",
    "venuePublications = list(number_of_publications_per_venue.values())\n",
    "\n",
    "plt.hist(venuePublications, bins = 100, log=True)\n",
    "plt.title(\"Number of Publications per Venue\")\n",
    "plt.show()\n"
   ],
   "metadata": {
    "colab": {
     "base_uri": "https://localhost:8080/",
     "height": 281
    },
    "id": "L0dxhpjEB8Ca",
    "outputId": "d47a9082-6108-42a8-d237-962e842beb5a",
    "pycharm": {
     "name": "#%%\n"
    }
   },
   "execution_count": 60,
   "outputs": [
    {
     "output_type": "display_data",
     "data": {
      "text/plain": [
       "<Figure size 432x288 with 1 Axes>"
      ],
      "image/png": "[encoded data removed]"
     },
     "metadata": {
      "needs_background": "light"
     }
    }
   ]
  },
  {
   "cell_type": "code",
   "source": [
    "maxIndex = venuePublications.index(np.max(venuePublications))\n",
    "venueName = venueNames[maxIndex]\n",
    "print(\"Venue with the most publications: \", venueName)"
   ],
   "metadata": {
    "colab": {
     "base_uri": "https://localhost:8080/"
    },
    "id": "mxhaRNtPD74_",
    "outputId": "cb0954ca-a2c7-4887-ca1f-ee2044f56baa",
    "pycharm": {
     "name": "#%%\n"
    }
   },
   "execution_count": 61,
   "outputs": [
    {
     "output_type": "stream",
     "name": "stdout",
     "text": [
      "Venue with the most publications:  IEEE Transactions on Information Theory\n"
     ]
    }
   ]
  },
  {
   "cell_type": "code",
   "source": [
    "import matplotlib.pyplot as plt\n",
    "import numpy as np\n",
    "from importlib import reload\n",
    "plt=reload(plt)\n",
    "\n",
    "nref = {}\n",
    "pubs = {}\n",
    "cite = {}\n",
    "citevc = {}\n",
    "citev = {}\n",
    "\n",
    "currentIndex = 0\n",
    "dataPath = \"/content/drive/MyDrive/DM/acm.txt\"\n",
    "with open(dataPath, 'r', newline='', encoding=\"utf8\") as dataFile:\n",
    "  for line in dataFile:\n",
    "    if line.startswith(\"#index\"):\n",
    "        indexStr = line[6:].strip()\n",
    "        currentIndex = int(indexStr) #the index of the paper we are currently processing.\n",
    "    elif line.startswith(\"#c\"):\n",
    "        venue = line[2:].strip()\n",
    "        if pubs.get(currentIndex) == None:\n",
    "          pubs[currentIndex] = venue\n",
    "\n",
    "\n",
    "with open(dataPath, 'r', newline='', encoding=\"utf8\") as dataFile:\n",
    "  for line in dataFile:\n",
    "    if line.startswith(\"#index\"):\n",
    "      indexStr = line[6:].strip()\n",
    "      currentIndex = int(indexStr) #the index of the paper we are currently processing.\n",
    "    elif line.startswith(\"#c\"):\n",
    "      venue = line[2:].strip()\n",
    "      if pubs.get(currentIndex) == None:\n",
    "        pubs[currentIndex] = venue\n",
    "    elif line.startswith(\"#%\"): #this line is a citation FROM a paper with the current index TO some other paper of a different index.\n",
    "      if nref.get(currentIndex) == None:\n",
    "        nref[currentIndex] = 1 #increment the number of references the current paper has\n",
    "      else :\n",
    "        nref[currentIndex] += 1\n",
    "\n",
    "      citationID = int(line[2:].strip())\n",
    "      if cite.get(citationID) == None:\n",
    "        cite[citationID] = 1 #increment the number of times this citation has been cited. \n",
    "      else:\n",
    "        cite[citationID] += 1\n",
    "\n",
    "      venueOfCitation = pubs.get(citationID) #find the venue that is responsible for this publication\n",
    "      if citevc.get(venueOfCitation) == None:\n",
    "        citevc[venueOfCitation] = 1 #increment the number of times that venue has been cited. \n",
    "      else:\n",
    "        citevc[venueOfCitation] += 1\n",
    "\n",
    "\n",
    "publicationNames = list(nref.keys())\n",
    "numberOfReferences = list(nref.values())\n",
    "maxReferenceIndex = numberOfReferences.index(np.max(numberOfReferences))\n",
    "print(\"Publication with the most references: \", publicationNames[maxReferenceIndex])\n",
    "print(\"Number of References: \", np.max(numberOfReferences))\n",
    "\n",
    "publicationNames = list(cite.keys())\n",
    "numberOfCitations = list(cite.values())\n",
    "maxCitationIndex = numberOfCitations.index(np.max(numberOfCitations))\n",
    "print(\"Publication with the most citations: \", publicationNames[maxCitationIndex])\n",
    "print(\"Number of Citations: \", np.max(numberOfCitations))\n"
   ],
   "metadata": {
    "colab": {
     "base_uri": "https://localhost:8080/"
    },
    "id": "tzKCVI2S9FAa",
    "outputId": "6bb5172c-ee5c-47c3-bbd9-be0038652e52",
    "pycharm": {
     "name": "#%%\n"
    }
   },
   "execution_count": 62,
   "outputs": [
    {
     "output_type": "stream",
     "name": "stdout",
     "text": [
      "Publication with the most references:  2015217\n",
      "Number of References:  809\n",
      "Publication with the most citations:  2135000\n",
      "Number of Citations:  938039\n"
     ]
    }
   ]
  },
  {
   "cell_type": "markdown",
   "source": [
    "These numbers make sense. A single paper can only cite so many other papers, but a paper can be cited by any number of other papers. "
   ],
   "metadata": {
    "id": "vRrdOlUHQGpe",
    "pycharm": {
     "name": "#%% md\n"
    }
   }
  },
  {
   "cell_type": "code",
   "source": [
    "plt.title(\"Number of References by Publication\")\n",
    "plt.hist(list(nref.values()), bins=25, log=True)"
   ],
   "metadata": {
    "colab": {
     "base_uri": "https://localhost:8080/",
     "height": 489
    },
    "id": "-r0esuvbQfvk",
    "outputId": "461697fc-11f8-4cbb-e062-e4aa12dc2fc6",
    "pycharm": {
     "name": "#%%\n"
    }
   },
   "execution_count": 63,
   "outputs": [
    {
     "output_type": "execute_result",
     "data": {
      "text/plain": [
       "(array([1.021643e+06, 1.701000e+04, 1.126000e+03, 3.090000e+02,\n",
       "        1.200000e+02, 5.300000e+01, 2.000000e+01, 1.700000e+01,\n",
       "        1.100000e+01, 4.000000e+00, 2.000000e+00, 2.000000e+00,\n",
       "        2.000000e+00, 1.000000e+00, 1.000000e+00, 0.000000e+00,\n",
       "        3.000000e+00, 1.000000e+00, 0.000000e+00, 0.000000e+00,\n",
       "        0.000000e+00, 0.000000e+00, 0.000000e+00, 1.000000e+00,\n",
       "        1.000000e+00]),\n",
       " array([  1.  ,  33.32,  65.64,  97.96, 130.28, 162.6 , 194.92, 227.24,\n",
       "        259.56, 291.88, 324.2 , 356.52, 388.84, 421.16, 453.48, 485.8 ,\n",
       "        518.12, 550.44, 582.76, 615.08, 647.4 , 679.72, 712.04, 744.36,\n",
       "        776.68, 809.  ]),\n",
       " <a list of 25 Patch objects>)"
      ]
     },
     "metadata": {},
     "execution_count": 63
    },
    {
     "output_type": "display_data",
     "data": {
      "text/plain": [
       "<Figure size 432x288 with 1 Axes>"
      ],
      "image/png": "[encoded data removed]"
     },
     "metadata": {
      "needs_background": "light"
     }
    }
   ]
  },
  {
   "cell_type": "code",
   "source": [
    "plt.title(\"Number of Citations by Publication\")\n",
    "plt.hist(list(citevc.values()), bins=25, log=True)"
   ],
   "metadata": {
    "colab": {
     "base_uri": "https://localhost:8080/",
     "height": 520
    },
    "id": "kTe7lqUeQGaM",
    "outputId": "3b2c4323-58b3-4219-bd2e-f6d6cd6b105b",
    "pycharm": {
     "name": "#%%\n"
    }
   },
   "execution_count": 64,
   "outputs": [
    {
     "output_type": "execute_result",
     "data": {
      "text/plain": [
       "(array([9.4902e+04, 6.0000e+00, 3.0000e+00, 0.0000e+00, 0.0000e+00,\n",
       "        0.0000e+00, 0.0000e+00, 0.0000e+00, 0.0000e+00, 0.0000e+00,\n",
       "        0.0000e+00, 0.0000e+00, 0.0000e+00, 0.0000e+00, 0.0000e+00,\n",
       "        0.0000e+00, 0.0000e+00, 0.0000e+00, 0.0000e+00, 0.0000e+00,\n",
       "        0.0000e+00, 0.0000e+00, 0.0000e+00, 0.0000e+00, 1.0000e+00]),\n",
       " array([1.0000000e+00, 3.9417560e+04, 7.8834120e+04, 1.1825068e+05,\n",
       "        1.5766724e+05, 1.9708380e+05, 2.3650036e+05, 2.7591692e+05,\n",
       "        3.1533348e+05, 3.5475004e+05, 3.9416660e+05, 4.3358316e+05,\n",
       "        4.7299972e+05, 5.1241628e+05, 5.5183284e+05, 5.9124940e+05,\n",
       "        6.3066596e+05, 6.7008252e+05, 7.0949908e+05, 7.4891564e+05,\n",
       "        7.8833220e+05, 8.2774876e+05, 8.6716532e+05, 9.0658188e+05,\n",
       "        9.4599844e+05, 9.8541500e+05]),\n",
       " <a list of 25 Patch objects>)"
      ]
     },
     "metadata": {},
     "execution_count": 64
    },
    {
     "output_type": "display_data",
     "data": {
      "text/plain": [
       "<Figure size 432x288 with 1 Axes>"
      ],
      "image/png": "[encoded data removed]"
     },
     "metadata": {
      "needs_background": "light"
     }
    }
   ]
  },
  {
   "cell_type": "code",
   "source": [
    "impact_by_venue = {}\n",
    "venues = list(citevc.keys())\n",
    "for venue in venues:\n",
    "  impact_by_venue[venue] = 0\n",
    "  if venue and number_of_publications_per_venue.get(venue):\n",
    "    impact_by_venue[venue] = citevc[venue]/number_of_publications_per_venue[venue]\n"
   ],
   "metadata": {
    "id": "wG2EIRHoZZmE",
    "pycharm": {
     "name": "#%%\n"
    }
   },
   "execution_count": 65,
   "outputs": []
  },
  {
   "cell_type": "code",
   "source": [
    "import matplotlib.pyplot as plt\n",
    "import numpy as np\n",
    "from importlib import reload\n",
    "plt=reload(plt)\n",
    "\n",
    "plt.title(\"Impact Factor By Venue\")\n",
    "plt.hist(list(impact_by_venue.values()), bins=50, log=True)"
   ],
   "metadata": {
    "colab": {
     "base_uri": "https://localhost:8080/",
     "height": 593
    },
    "id": "6OAbl-f5aEea",
    "outputId": "ca32fb0e-3a1a-48b2-c928-968aaef7c574",
    "pycharm": {
     "name": "#%%\n"
    }
   },
   "execution_count": 66,
   "outputs": [
    {
     "output_type": "execute_result",
     "data": {
      "text/plain": [
       "(array([9.4152e+04, 4.7000e+02, 1.4300e+02, 5.2000e+01, 1.9000e+01,\n",
       "        2.1000e+01, 1.3000e+01, 9.0000e+00, 7.0000e+00, 5.0000e+00,\n",
       "        0.0000e+00, 6.0000e+00, 1.0000e+00, 1.0000e+00, 3.0000e+00,\n",
       "        3.0000e+00, 0.0000e+00, 0.0000e+00, 0.0000e+00, 1.0000e+00,\n",
       "        1.0000e+00, 0.0000e+00, 0.0000e+00, 0.0000e+00, 0.0000e+00,\n",
       "        0.0000e+00, 1.0000e+00, 0.0000e+00, 1.0000e+00, 0.0000e+00,\n",
       "        1.0000e+00, 0.0000e+00, 0.0000e+00, 0.0000e+00, 0.0000e+00,\n",
       "        0.0000e+00, 0.0000e+00, 1.0000e+00, 0.0000e+00, 0.0000e+00,\n",
       "        0.0000e+00, 0.0000e+00, 0.0000e+00, 0.0000e+00, 0.0000e+00,\n",
       "        0.0000e+00, 0.0000e+00, 0.0000e+00, 0.0000e+00, 1.0000e+00]),\n",
       " array([   0. ,  172.4,  344.8,  517.2,  689.6,  862. , 1034.4, 1206.8,\n",
       "        1379.2, 1551.6, 1724. , 1896.4, 2068.8, 2241.2, 2413.6, 2586. ,\n",
       "        2758.4, 2930.8, 3103.2, 3275.6, 3448. , 3620.4, 3792.8, 3965.2,\n",
       "        4137.6, 4310. , 4482.4, 4654.8, 4827.2, 4999.6, 5172. , 5344.4,\n",
       "        5516.8, 5689.2, 5861.6, 6034. , 6206.4, 6378.8, 6551.2, 6723.6,\n",
       "        6896. , 7068.4, 7240.8, 7413.2, 7585.6, 7758. , 7930.4, 8102.8,\n",
       "        8275.2, 8447.6, 8620. ]),\n",
       " <a list of 50 Patch objects>)"
      ]
     },
     "metadata": {},
     "execution_count": 66
    },
    {
     "output_type": "display_data",
     "data": {
      "text/plain": [
       "<Figure size 432x288 with 1 Axes>"
      ],
      "image/png": "[encoded data removed]"
     },
     "metadata": {
      "needs_background": "light"
     }
    }
   ]
  },
  {
   "cell_type": "code",
   "source": [
    "venues = list(impact_by_venue.keys())\n",
    "impacts = list(impact_by_venue.values())\n",
    "\n",
    "indexOfMaxVenue = impacts.index(np.max(impacts))\n",
    "venueName = venues[indexOfMaxVenue]\n",
    "print(venueName, \" has the biggest impact factor, with a value of\", impacts[indexOfMaxVenue])\n"
   ],
   "metadata": {
    "colab": {
     "base_uri": "https://localhost:8080/"
    },
    "id": "mShBaX8bb7Z1",
    "outputId": "4972c745-9c5e-4111-99cd-1493b941aa84",
    "pycharm": {
     "name": "#%%\n"
    }
   },
   "execution_count": 67,
   "outputs": [
    {
     "output_type": "stream",
     "name": "stdout",
     "text": [
      "Challenge of Microprocessors  has the biggest impact factor, with a value of 8620.0\n"
     ]
    }
   ]
  },
  {
   "cell_type": "markdown",
   "source": [
    "This impact factor is way too large to be reasonable. We know there's something fishy happening with the way venues are named, so this value can't be trusted. "
   ],
   "metadata": {
    "id": "WC-IQFn4coki",
    "pycharm": {
     "name": "#%% md\n"
    }
   }
  },
  {
   "cell_type": "code",
   "source": [
    "impact_by_venue = {}\n",
    "venues = list(citevc.keys())\n",
    "\n",
    "for venue in venues:\n",
    "  impact_by_venue[venue] = 0\n",
    "  if venue != None and number_of_publications_per_venue.get(venue) != None and number_of_publications_per_venue[venue] > 10:\n",
    "    impact_by_venue[venue] = citevc[venue]/number_of_publications_per_venue[venue]"
   ],
   "metadata": {
    "id": "zTTksQEJc3Tr",
    "pycharm": {
     "name": "#%%\n"
    }
   },
   "execution_count": 68,
   "outputs": []
  },
  {
   "cell_type": "code",
   "source": [
    "import matplotlib.pyplot as plt\n",
    "import numpy as np\n",
    "from importlib import reload\n",
    "plt=reload(plt)\n",
    "\n",
    "plt.title(\"Impact Factor By Venue\")\n",
    "plt.hist(list(impact_by_venue.values()), bins=25, log=True)"
   ],
   "metadata": {
    "colab": {
     "base_uri": "https://localhost:8080/",
     "height": 507
    },
    "id": "5nbJFvP6dCCv",
    "outputId": "71dd3619-128d-473e-e069-f8086e7ba745",
    "pycharm": {
     "name": "#%%\n"
    }
   },
   "execution_count": 69,
   "outputs": [
    {
     "output_type": "execute_result",
     "data": {
      "text/plain": [
       "(array([9.3723e+04, 8.4100e+02, 2.1100e+02, 7.3000e+01, 3.3000e+01,\n",
       "        1.3000e+01, 3.0000e+00, 4.0000e+00, 3.0000e+00, 1.0000e+00,\n",
       "        0.0000e+00, 2.0000e+00, 2.0000e+00, 1.0000e+00, 0.0000e+00,\n",
       "        1.0000e+00, 0.0000e+00, 0.0000e+00, 0.0000e+00, 0.0000e+00,\n",
       "        0.0000e+00, 0.0000e+00, 0.0000e+00, 0.0000e+00, 1.0000e+00]),\n",
       " array([  0.        ,  16.31564356,  32.63128713,  48.94693069,\n",
       "         65.26257426,  81.57821782,  97.89386139, 114.20950495,\n",
       "        130.52514851, 146.84079208, 163.15643564, 179.47207921,\n",
       "        195.78772277, 212.10336634, 228.4190099 , 244.73465347,\n",
       "        261.05029703, 277.36594059, 293.68158416, 309.99722772,\n",
       "        326.31287129, 342.62851485, 358.94415842, 375.25980198,\n",
       "        391.57544554, 407.89108911]),\n",
       " <a list of 25 Patch objects>)"
      ]
     },
     "metadata": {},
     "execution_count": 69
    },
    {
     "output_type": "display_data",
     "data": {
      "text/plain": [
       "<Figure size 432x288 with 1 Axes>"
      ],
      "image/png": "[encoded data removed]"
     },
     "metadata": {
      "needs_background": "light"
     }
    }
   ]
  },
  {
   "cell_type": "markdown",
   "source": [
    "When we limit the impact factor calculation to only venues what have at least 10 or more publications, the impact factors get slightly more reasonable. "
   ],
   "metadata": {
    "id": "JUKvR9d8c2_m",
    "pycharm": {
     "name": "#%% md\n"
    }
   }
  },
  {
   "cell_type": "code",
   "source": [
    "year_data = {}\n",
    "with open(dataPath, 'r', newline='', encoding=\"utf8\") as dataFile:\n",
    "  currYear = 0\n",
    "  currIndex = 0\n",
    "  for line in dataFile:\n",
    "    if line.startswith(\"#index\"):\n",
    "      indexStr = line[6:].strip()\n",
    "      currIndex = int(indexStr)\n",
    "    elif line.startswith(\"#t\"):\n",
    "      yearStr = line[2:].strip()\n",
    "      year = int(yearStr)\n",
    "      if year_data.get(year) == None: #if we haven't encountered this year before.\n",
    "        year_data[year] = {\"numPublications\" : 0, \"numCitations\" : 0, \"numReferences\" : 0}\n",
    "        year_data[year][\"numPublications\"] +=1\n",
    "        if cite.get(currIndex) != None:\n",
    "          year_data[year][\"numCitations\"] = cite.get(currIndex)\n",
    "        if nref.get(currIndex) != None:\n",
    "          year_data[year][\"numReferences\"] = nref.get(currIndex)\n",
    "\n",
    "      else:\n",
    "        year_data[year][\"numPublications\"] += 1\n",
    "        if cite.get(currIndex) != None:\n",
    "          year_data[year][\"numCitations\"] = cite.get(currIndex)\n",
    "        if nref.get(currIndex) != None:\n",
    "          year_data[year][\"numReferences\"] = nref.get(currIndex)\n",
    "\n",
    "average_year = {}\n",
    "for year in year_data.keys():\n",
    "  average_year[year] = {}\n",
    "  average_year[year][\"citationAverage\"] = year_data[year][\"numCitations\"] / year_data[year][\"numPublications\"]\n",
    "  average_year[year][\"referenceAverage\"] = year_data[year][\"numReferences\"] / year_data[year][\"numPublications\"]\n",
    "\n",
    "import collections\n",
    "average_year = collections.OrderedDict(sorted(average_year.items()))"
   ],
   "metadata": {
    "id": "8PQCnus9g1BB",
    "pycharm": {
     "name": "#%%\n"
    }
   },
   "execution_count": 72,
   "outputs": []
  },
  {
   "cell_type": "code",
   "source": [
    "x = list(average_year.keys())\n",
    "y1 = list([average_year[i][\"citationAverage\"] for i in x])\n",
    "y2 = list([average_year[i][\"referenceAverage\"] for i in x])\n",
    "\n",
    "fig, ax = plt.subplots()\n",
    "\n",
    "plt.plot( x, y1, label = \"Average No. of Citations\")\n",
    "plt.plot( x, y2,  label = \"Average No. of References\")\n",
    "legend = ax.legend(loc='upper right')\n",
    "plt.show()"
   ],
   "metadata": {
    "colab": {
     "base_uri": "https://localhost:8080/",
     "height": 265
    },
    "id": "MyONeDVCxz1k",
    "outputId": "2180d797-1d07-41c8-9bbf-0ba8efeafd1f",
    "pycharm": {
     "name": "#%%\n"
    }
   },
   "execution_count": 73,
   "outputs": [
    {
     "output_type": "display_data",
     "data": {
      "text/plain": [
       "<Figure size 432x288 with 1 Axes>"
      ],
      "image/png": "[encoded data removed]"
     },
     "metadata": {
      "needs_background": "light"
     }
    }
   ]
  },
  {
   "cell_type": "markdown",
   "source": [
    "Citations and references are roughly correlated with one another, althought this graph looks like the citation/reference count are lower than they should be considering the total number of publications. "
   ],
   "metadata": {
    "id": "aO3e4CRkyfzA",
    "pycharm": {
     "name": "#%% md\n"
    }
   }
  }
 ]
}